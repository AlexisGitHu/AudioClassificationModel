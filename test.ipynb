{
 "cells": [
  {
   "cell_type": "code",
   "execution_count": 5,
   "id": "7c32a9e7",
   "metadata": {},
   "outputs": [],
   "source": [
    "from CNN_musical.CNN_musical import ModeloCNN, fit\n",
    "import torch\n",
    "import torchvision\n",
    "from torchvision import transforms\n",
    "from torchvision.datasets import ImageFolder\n",
    "import torch\n",
    "import torchvision\n",
    "from torchvision import transforms\n",
    "from torchvision.datasets import ImageFolder"
   ]
  },
  {
   "cell_type": "code",
   "execution_count": 1,
   "id": "cb83a47b",
   "metadata": {},
   "outputs": [],
   "source": [
    "from utils import utils"
   ]
  },
  {
   "cell_type": "code",
   "execution_count": 18,
   "id": "8e4453da",
   "metadata": {
    "scrolled": false
   },
   "outputs": [],
   "source": [
    "utils.separar(\"./datos_nuevos/Piano2.wav\", \"datos_nuevos/prueba/\", 2)"
   ]
  },
  {
   "cell_type": "code",
   "execution_count": null,
   "id": "d1b08284",
   "metadata": {},
   "outputs": [],
   "source": [
    "import CNN_musical"
   ]
  },
  {
   "cell_type": "code",
   "execution_count": 2,
   "id": "ff050a98",
   "metadata": {},
   "outputs": [],
   "source": [
    "import os\n",
    "device = torch.device('cuda:0' if torch.cuda.is_available() else 'cpu')\n",
    "# data_dir = \"../data/spectrograms\"\n",
    "data_dir = \"data/MelSpectrograms/\"\n",
    "\n",
    "#load the train and test data\n",
    "dataset = ImageFolder(data_dir,transform = transforms.Compose([\n",
    "    transforms.Resize((150,150)),transforms.ToTensor()\n",
    "]))"
   ]
  },
  {
   "cell_type": "code",
   "execution_count": 3,
   "id": "20cdb41a",
   "metadata": {},
   "outputs": [],
   "source": [
    "#No ejectutar si vamos a cargar el modelo\n",
    "num_epochs = 7\n",
    "opt_func = torch.optim.Adam\n",
    "lr = 0.001\n",
    "\n",
    "model = ModeloCNN(device)\n",
    "#fitting the model on training data and record the result after each epoch"
   ]
  },
  {
   "cell_type": "code",
   "execution_count": null,
   "id": "e916aa1b",
   "metadata": {},
   "outputs": [],
   "source": [
    "history = fit(num_epochs, lr, model, train_dl, val_dl, opt_func)"
   ]
  },
  {
   "cell_type": "code",
   "execution_count": 4,
   "id": "1821bd76",
   "metadata": {},
   "outputs": [
    {
     "name": "stdout",
     "output_type": "stream",
     "text": [
      "Length of Train Data : 3216\n",
      "Length of Validation Data : 580\n",
      "Length of Test Data : 300\n"
     ]
    }
   ],
   "source": [
    "from torch.utils.data.dataloader import DataLoader\n",
    "from torch.utils.data import random_split\n",
    "\n",
    "batch_size = 32\n",
    "val_size = 580\n",
    "test_size = 300\n",
    "train_size = len(dataset) - (val_size + test_size)\n",
    "\n",
    "train_data,val_data,test_data = random_split(dataset,[train_size,val_size,test_size])\n",
    "print(f\"Length of Train Data : {len(train_data)}\")\n",
    "print(f\"Length of Validation Data : {len(val_data)}\")\n",
    "print(f\"Length of Test Data : {len(test_data)}\")\n",
    "\n",
    "\n",
    "#load the train and validation into batches.\n",
    "train_dl = DataLoader(train_data, batch_size, shuffle = True, num_workers = 4, pin_memory = True)\n",
    "val_dl = DataLoader(val_data, batch_size*2, num_workers = 4, pin_memory = True)\n",
    "test_dl = DataLoader(test_data, batch_size, shuffle = True, num_workers = 4, pin_memory = True)"
   ]
  },
  {
   "cell_type": "markdown",
   "id": "4d8e3f50",
   "metadata": {},
   "source": [
    "# Cargar el modelo y predecir"
   ]
  },
  {
   "cell_type": "code",
   "execution_count": 3,
   "id": "6b7a623e",
   "metadata": {},
   "outputs": [],
   "source": [
    "# Cargamos el modelo y lo devolvemos a partir de un fichero que se encuentra \n",
    "# en la ruta = <ruta> y el device lo ajustamos al que tengamos\n",
    "def cargarModelo(ruta, device):\n",
    "    model = ModeloCNN(device)\n",
    "    model.load_state_dict(torch.load(ruta, map_location=device))\n",
    "    return model"
   ]
  },
  {
   "cell_type": "code",
   "execution_count": 6,
   "id": "9bfcaff0",
   "metadata": {},
   "outputs": [],
   "source": [
    "ruta = \"../trainedModelNoHistory.pth\"\n",
    "device = torch.device('cpu')\n",
    "\n",
    "model = cargarModelo(ruta, device)"
   ]
  },
  {
   "cell_type": "code",
   "execution_count": 7,
   "id": "f4bd1bbb",
   "metadata": {},
   "outputs": [],
   "source": [
    "# Hacemos un predict sobre un input y devolvemos el índice de clase predicho\n",
    "def single_predict(model, input):\n",
    "    model.eval()\n",
    "    with torch.no_grad():\n",
    "        predictions = model(input)\n",
    "        predicted_index = predictions[0].argmax(0)\n",
    "    return predicted_index.item()"
   ]
  },
  {
   "cell_type": "code",
   "execution_count": 8,
   "id": "c28f14ae",
   "metadata": {},
   "outputs": [],
   "source": [
    "from torch.utils.data.dataloader import DataLoader\n",
    "from torchvision.datasets import ImageFolder\n",
    "\n",
    "# Tratamos de predecir el audio en espectrogramas, donde tiene las imagenes en <data_dir/espectrogramas>\n",
    "# De nuevo, ajustamos el device al que tengamos disponible\n",
    "\n",
    "def predict(model, data_dir, device):\n",
    "    dataset = ImageFolder(data_dir,transform = transforms.Compose([\n",
    "    transforms.Resize((150,150)),transforms.ToTensor()\n",
    "    ]))\n",
    "    data=DataLoader(dataset, 1, num_workers = 4, pin_memory = True)\n",
    "\n",
    "    predicciones = []\n",
    "    for batch in data:\n",
    "        indicePredicho=single_predict(model,batch[0].to(device))\n",
    "        predicciones.append(indicePredicho)\n",
    "    \n",
    "    return predicciones"
   ]
  },
  {
   "cell_type": "code",
   "execution_count": 9,
   "id": "2bbc9b62",
   "metadata": {},
   "outputs": [],
   "source": [
    "# Tratamos de devolver el índice que más veces ha predicho, ya que habrá veces que prediga mal\n",
    "def most_common(predicciones):\n",
    "    return max(set(predicciones), key=predicciones.count)"
   ]
  },
  {
   "cell_type": "code",
   "execution_count": 19,
   "id": "d6d8fa8e",
   "metadata": {},
   "outputs": [
    {
     "name": "stdout",
     "output_type": "stream",
     "text": [
      "['bass', 'bass', 'organ', 'organ', 'organ', 'organ', 'bass', 'bass', 'bass']\n",
      "bass\n"
     ]
    }
   ],
   "source": [
    "# Celda de prueba\n",
    "\n",
    "instrumentos = ['bass', 'brass', 'flute', 'guitar', 'keyboard', 'mallet', 'organ', 'reed', 'string', 'vocal']\n",
    "\n",
    "ruta = \"./datos_nuevos/\"\n",
    "\n",
    "# Generamos las predicciones que se encuentren en la ruta <ruta> y vemos qué prediccion ha sido la más común\n",
    "predicciones = predict(model, ruta, device)\n",
    "\n",
    "instrumentos_predicciones = [instrumentos[i] for i in predicciones]\n",
    "\n",
    "print(instrumentos_predicciones)\n",
    "\n",
    "prediccionFinal = most_common(predicciones)\n",
    "\n",
    "# Mostramos qué intrumento ha predicho\n",
    "print(instrumentos[prediccionFinal])"
   ]
  },
  {
   "cell_type": "markdown",
   "id": "a78df0e2",
   "metadata": {},
   "source": [
    "# Prueba de ver onSet"
   ]
  },
  {
   "cell_type": "code",
   "execution_count": 15,
   "id": "a0c7242d",
   "metadata": {},
   "outputs": [],
   "source": [
    "import librosa"
   ]
  },
  {
   "cell_type": "code",
   "execution_count": 17,
   "id": "df3b575d",
   "metadata": {
    "scrolled": true
   },
   "outputs": [
    {
     "name": "stdout",
     "output_type": "stream",
     "text": [
      "[0.06965986 0.74303855 3.13469388 3.39011338 3.83129252 3.92417234\n",
      " 4.2492517  4.36535147 4.5046712  6.22294785 6.40870748 9.0093424\n",
      " 9.07900227 9.28798186]\n"
     ]
    },
    {
     "data": {
      "image/png": "[encoded data removed]",
      "text/plain": [
       "<Figure size 432x288 with 1 Axes>"
      ]
     },
     "metadata": {
      "needs_background": "light"
     },
     "output_type": "display_data"
    }
   ],
   "source": [
    "import os\n",
    "import matplotlib.pyplot as plt\n",
    "import numpy as np\n",
    "import wave, sys\n",
    "\n",
    "def ver_onSet(audio):\n",
    "    y, sr = librosa.load(audio)\n",
    "    array_tiempos = librosa.onset.onset_detect(y=y, sr=sr, units='time')\n",
    "    return array_tiempos\n",
    "\n",
    "# shows the sound waves\n",
    "def visualize(path: str):\n",
    "\n",
    "\t# reading the audio file\n",
    "\traw = wave.open(path)\n",
    "\n",
    "\t# reads all the frames\n",
    "\t# -1 indicates all or max frames\n",
    "\tsignal = raw.readframes(-1)\n",
    "\tsignal = np.frombuffer(signal, dtype =\"int16\")\n",
    "\t\n",
    "\t# gets the frame rate\n",
    "\tf_rate = raw.getframerate()\n",
    "\n",
    "\t# to Plot the x-axis in seconds\n",
    "\t# you need get the frame rate\n",
    "\t# and divide by size of your signal\n",
    "\t# to create a Time Vector\n",
    "\t# spaced linearly with the size\n",
    "\t# of the audio file\n",
    "\ttime = np.linspace(\n",
    "\t\t0, # start\n",
    "\t\tlen(signal) / (2*f_rate),\n",
    "\t\tnum = len(signal)\n",
    "\t)\n",
    "\n",
    "\t# using matplotlib to plot\n",
    "\t# creates a new figure\n",
    "\tplt.figure(1)\n",
    "\t\n",
    "\t# title of the plot\n",
    "\tplt.title(\"Sound Wave\")\n",
    "\t\n",
    "\t# label of x-axis\n",
    "\tplt.xlabel(\"Time\")\n",
    "\t\n",
    "\t# actual plotting\n",
    "\tplt.plot(time, signal)\n",
    "\t\n",
    "\tfor xc in tiempos_onset:\n",
    "\t\tplt.axvline(x=xc, color='red', linestyle='--')\n",
    "    \n",
    "\t# shows the plot\n",
    "\t# in new window\n",
    "\tplt.show()\n",
    "\n",
    "\t# you can also save\n",
    "\t# the plot using\n",
    "\t# plt.savefig('filename')\n",
    "\n",
    "\n",
    "if __name__ == \"__main__\":\n",
    "    audio = './datos_nuevos/Piano2.wav'\n",
    "    tiempos_onset = ver_onSet(audio)\n",
    "\n",
    "    print(tiempos_onset)\n",
    "    path = os.path.join(os.getcwd(),audio)\n",
    "    visualize(path)"
   ]
  },
  {
   "cell_type": "code",
   "execution_count": null,
   "id": "6a80340e",
   "metadata": {},
   "outputs": [],
   "source": []
  }
 ],
 "metadata": {
  "kernelspec": {
   "display_name": "Python 3 (ipykernel)",
   "language": "python",
   "name": "python3"
  },
  "language_info": {
   "codemirror_mode": {
    "name": "ipython",
    "version": 3
   },
   "file_extension": ".py",
   "mimetype": "text/x-python",
   "name": "python",
   "nbconvert_exporter": "python",
   "pygments_lexer": "ipython3",
   "version": "3.9.7"
  }
 },
 "nbformat": 4,
 "nbformat_minor": 5
}
