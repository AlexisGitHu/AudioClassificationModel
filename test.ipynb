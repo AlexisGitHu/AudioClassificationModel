{
 "cells": [
  {
   "cell_type": "code",
   "execution_count": 1,
   "id": "7c32a9e7",
   "metadata": {},
   "outputs": [],
   "source": [
    "from CNN_musical.CNN_musical import ModeloCNN, fit\n",
    "import torch\n",
    "import torchvision\n",
    "from torchvision import transforms\n",
    "from torchvision.datasets import ImageFolder\n",
    "import torch\n",
    "import torchvision\n",
    "from torchvision import transforms\n",
    "from torchvision.datasets import ImageFolder"
   ]
  },
  {
   "cell_type": "code",
   "execution_count": 16,
   "id": "cb83a47b",
   "metadata": {},
   "outputs": [],
   "source": [
    "from utils import utils"
   ]
  },
  {
   "cell_type": "code",
   "execution_count": null,
   "id": "d1b08284",
   "metadata": {},
   "outputs": [],
   "source": [
    "import CNN_musical"
   ]
  },
  {
   "cell_type": "code",
   "execution_count": 2,
   "id": "ff050a98",
   "metadata": {},
   "outputs": [],
   "source": [
    "import os\n",
    "device = torch.device('cuda:0' if torch.cuda.is_available() else 'cpu')\n",
    "# data_dir = \"../data/spectrograms\"\n",
    "data_dir = \"data/MelSpectrograms/\"\n",
    "\n",
    "#load the train and test data\n",
    "dataset = ImageFolder(data_dir,transform = transforms.Compose([\n",
    "    transforms.Resize((150,150)),transforms.ToTensor()\n",
    "]))"
   ]
  },
  {
   "cell_type": "code",
   "execution_count": 3,
   "id": "20cdb41a",
   "metadata": {},
   "outputs": [],
   "source": [
    "#No ejectutar si vamos a cargar el modelo\n",
    "num_epochs = 7\n",
    "opt_func = torch.optim.Adam\n",
    "lr = 0.001\n",
    "\n",
    "model = ModeloCNN(device)\n",
    "#fitting the model on training data and record the result after each epoch"
   ]
  },
  {
   "cell_type": "code",
   "execution_count": null,
   "id": "e916aa1b",
   "metadata": {},
   "outputs": [],
   "source": [
    "history = fit(num_epochs, lr, model, train_dl, val_dl, opt_func)"
   ]
  },
  {
   "cell_type": "code",
   "execution_count": 4,
   "id": "1821bd76",
   "metadata": {},
   "outputs": [
    {
     "name": "stdout",
     "output_type": "stream",
     "text": [
      "Length of Train Data : 3216\n",
      "Length of Validation Data : 580\n",
      "Length of Test Data : 300\n"
     ]
    }
   ],
   "source": [
    "from torch.utils.data.dataloader import DataLoader\n",
    "from torch.utils.data import random_split\n",
    "\n",
    "batch_size = 32\n",
    "val_size = 580\n",
    "test_size = 300\n",
    "train_size = len(dataset) - (val_size + test_size)\n",
    "\n",
    "train_data,val_data,test_data = random_split(dataset,[train_size,val_size,test_size])\n",
    "print(f\"Length of Train Data : {len(train_data)}\")\n",
    "print(f\"Length of Validation Data : {len(val_data)}\")\n",
    "print(f\"Length of Test Data : {len(test_data)}\")\n",
    "\n",
    "\n",
    "#load the train and validation into batches.\n",
    "train_dl = DataLoader(train_data, batch_size, shuffle = True, num_workers = 4, pin_memory = True)\n",
    "val_dl = DataLoader(val_data, batch_size*2, num_workers = 4, pin_memory = True)\n",
    "test_dl = DataLoader(test_data, batch_size, shuffle = True, num_workers = 4, pin_memory = True)"
   ]
  }
 ],
 "metadata": {
  "kernelspec": {
   "display_name": "Python 3",
   "language": "python",
   "name": "python3"
  },
  "language_info": {
   "codemirror_mode": {
    "name": "ipython",
    "version": 3
   },
   "file_extension": ".py",
   "mimetype": "text/x-python",
   "name": "python",
   "nbconvert_exporter": "python",
   "pygments_lexer": "ipython3",
   "version": "3.8.8"
  }
 },
 "nbformat": 4,
 "nbformat_minor": 5
}
