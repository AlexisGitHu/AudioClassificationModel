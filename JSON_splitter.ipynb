{
 "cells": [
  {
   "cell_type": "markdown",
   "id": "970e7f3e",
   "metadata": {},
   "source": [
    "# Separador del json example.json\n",
    "Permite hacer un json con los datos que se recogen dentro de cada carpeta (siendo el nombre de cada carpeta una clase de instrumento del archivo example)."
   ]
  },
  {
   "cell_type": "code",
   "execution_count": 8,
   "id": "3f74a810",
   "metadata": {},
   "outputs": [],
   "source": [
    "import os\n",
    "import json\n",
    "\n",
    "classes = os.listdir(\"./data/MelSpectrograms\")"
   ]
  },
  {
   "cell_type": "code",
   "execution_count": 9,
   "id": "4c52102f",
   "metadata": {},
   "outputs": [],
   "source": [
    "with open(\"data/examples.json\", \"r\") as f:\n",
    "    datos = json.loads(f.read())\n",
    "leyenda = {}\n",
    "for clase in classes:\n",
    "        leyenda[clase] = []\n",
    "\n",
    "for dato in datos:\n",
    "    leyenda[datos[dato][\"instrument_family_str\"]].append(datos[dato])"
   ]
  },
  {
   "cell_type": "code",
   "execution_count": 10,
   "id": "20bf7b97",
   "metadata": {},
   "outputs": [],
   "source": [
    "for clase in classes:\n",
    "    f = open(clase+'.json', 'w')\n",
    "    f.write(json.dumps(leyenda[clase]))\n",
    "    f.close()"
   ]
  }
 ],
 "metadata": {
  "kernelspec": {
   "display_name": "Python 3 (ipykernel)",
   "language": "python",
   "name": "python3"
  },
  "language_info": {
   "codemirror_mode": {
    "name": "ipython",
    "version": 3
   },
   "file_extension": ".py",
   "mimetype": "text/x-python",
   "name": "python",
   "nbconvert_exporter": "python",
   "pygments_lexer": "ipython3",
   "version": "3.9.7"
  }
 },
 "nbformat": 4,
 "nbformat_minor": 5
}
