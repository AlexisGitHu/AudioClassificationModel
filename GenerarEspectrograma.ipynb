{
 "cells": [
  {
   "cell_type": "code",
   "execution_count": 1,
   "id": "37cc330c",
   "metadata": {},
   "outputs": [
    {
     "name": "stderr",
     "output_type": "stream",
     "text": [
      "/home/alexis/.local/lib/python3.8/site-packages/tqdm/auto.py:22: TqdmWarning: IProgress not found. Please update jupyter and ipywidgets. See https://ipywidgets.readthedocs.io/en/stable/user_install.html\n",
      "  from .autonotebook import tqdm as notebook_tqdm\n"
     ]
    },
    {
     "data": {
      "text/plain": [
       "True"
      ]
     },
     "execution_count": 1,
     "metadata": {},
     "output_type": "execute_result"
    }
   ],
   "source": [
    "import torch\n",
    "import torchaudio\n",
    "import torch.utils.data as data\n",
    "import torchvision.transforms as transforms\n",
    "import numpy as np\n",
    "from pytorchnsynthmaster.pytorch_nsynth.nsynth import NSynth, SignalTransformation\n",
    "import sys\n",
    "torch.cuda.is_available()"
   ]
  },
  {
   "cell_type": "code",
   "execution_count": 2,
   "id": "47529117",
   "metadata": {},
   "outputs": [],
   "source": [
    "toFloat = transforms.Lambda(lambda x: x / np.iinfo(np.int16).max)"
   ]
  },
  {
   "cell_type": "code",
   "execution_count": 3,
   "id": "35b03fef",
   "metadata": {},
   "outputs": [],
   "source": [
    "dataset = NSynth(\n",
    "        \"nsynth-valid\",\n",
    "        transform=toFloat,\n",
    "        blacklist_pattern=[\"string\"],  # blacklist string instrument\n",
    "        categorical_field_list=[\"instrument_family\", \"instrument_source\"])"
   ]
  },
  {
   "cell_type": "code",
   "execution_count": 4,
   "id": "a9b8584a",
   "metadata": {},
   "outputs": [],
   "source": [
    "loader = data.DataLoader(dataset, batch_size=32, shuffle=True)"
   ]
  },
  {
   "cell_type": "markdown",
   "id": "011c1a23",
   "metadata": {},
   "source": [
    "# Coger el archivo de audio con source 0 y clasificar por familias\n",
    "\n",
    "\n",
    "### Families\n",
    "0 - Bass\n",
    "\n",
    "1 - Brass\n",
    "\n",
    "2 - Flute\n",
    "\n",
    "3 - Guitar\n",
    "\n",
    "4 - Keyboard\n",
    "\n",
    "5 - Mallet\n",
    "\n",
    "6 - Organ\n",
    "\n",
    "7 - Reed\n",
    "\n",
    "8 - String\n",
    "\n",
    "9 - Synth_lead\n",
    "\n",
    "10 - Vocal"
   ]
  },
  {
   "cell_type": "code",
   "execution_count": 5,
   "id": "1a2b5ce6",
   "metadata": {},
   "outputs": [
    {
     "name": "stdout",
     "output_type": "stream",
     "text": [
      "{'fichero': 'bass_synthetic_033-087-050.wav', 'familia': 2}\n"
     ]
    }
   ],
   "source": [
    "# print(dataset.__getitem__(0))\n",
    "# print(dataset.__getitem__(0)[3][\"note_str\"])\n",
    "# print(dataset.__getitem__(0)[3][\"instrument_source\"])\n",
    "print(dataset.getAudioCharacteristics(0))"
   ]
  },
  {
   "cell_type": "code",
   "execution_count": 8,
   "id": "b5b79adf",
   "metadata": {},
   "outputs": [
    {
     "name": "stdout",
     "output_type": "stream",
     "text": [
      "tensor([[[2.7021e+03, 1.6292e+04, 2.5236e+04,  ..., 0.0000e+00,\n",
      "          0.0000e+00, 0.0000e+00],\n",
      "         [6.5048e+02, 2.0570e+01, 1.7952e+00,  ..., 0.0000e+00,\n",
      "          0.0000e+00, 0.0000e+00],\n",
      "         [5.1166e+01, 9.8825e-01, 4.6492e-02,  ..., 0.0000e+00,\n",
      "          0.0000e+00, 0.0000e+00],\n",
      "         ...,\n",
      "         [1.1064e-05, 2.6957e-06, 1.2861e-06,  ..., 0.0000e+00,\n",
      "          0.0000e+00, 0.0000e+00],\n",
      "         [5.8676e-06, 2.8448e-06, 1.3947e-06,  ..., 0.0000e+00,\n",
      "          0.0000e+00, 0.0000e+00],\n",
      "         [2.0117e-06, 3.2150e-06, 3.0517e-06,  ..., 0.0000e+00,\n",
      "          0.0000e+00, 0.0000e+00]]])\n"
     ]
    }
   ],
   "source": [
    "audioCharacteristics=dataset.getAudioCharacteristics(0)\n",
    "signalTransformation = SignalTransformation(fichero=audioCharacteristics[\"fichero\"],label=audioCharacteristics[\"familia\"])\n",
    "print(signalTransformation.generarSpectrograma())\n",
    "# print(signalTransformation.generarSpectrograma())\n"
   ]
  },
  {
   "cell_type": "code",
   "execution_count": null,
   "id": "8d0b0c29",
   "metadata": {},
   "outputs": [],
   "source": []
  },
  {
   "cell_type": "code",
   "execution_count": null,
   "id": "2c183604",
   "metadata": {},
   "outputs": [],
   "source": [
    "# SAMPLE_RATE=16000\n",
    "# mel_spectrogram = torchaudio.transforms.MelSpectrogram(sample_rate=SAMPLE_RATE,\n",
    "#                                                       n_fft=1024, \n",
    "#                                                       hop_length=512,\n",
    "#                                                       n_mels=64)"
   ]
  },
  {
   "cell_type": "code",
   "execution_count": null,
   "id": "c6cb90b6",
   "metadata": {},
   "outputs": [],
   "source": []
  }
 ],
 "metadata": {
  "kernelspec": {
   "display_name": "AudioEnvironment",
   "language": "python",
   "name": "audioenvironment"
  },
  "language_info": {
   "codemirror_mode": {
    "name": "ipython",
    "version": 3
   },
   "file_extension": ".py",
   "mimetype": "text/x-python",
   "name": "python",
   "nbconvert_exporter": "python",
   "pygments_lexer": "ipython3",
   "version": "3.8.13"
  }
 },
 "nbformat": 4,
 "nbformat_minor": 5
}
