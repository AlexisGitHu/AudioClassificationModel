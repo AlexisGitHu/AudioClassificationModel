{
 "cells": [
  {
   "cell_type": "code",
   "execution_count": 1,
   "id": "37cc330c",
   "metadata": {},
   "outputs": [
    {
     "name": "stderr",
     "output_type": "stream",
     "text": [
      "/home/alexis/.local/lib/python3.8/site-packages/tqdm/auto.py:22: TqdmWarning: IProgress not found. Please update jupyter and ipywidgets. See https://ipywidgets.readthedocs.io/en/stable/user_install.html\n",
      "  from .autonotebook import tqdm as notebook_tqdm\n"
     ]
    },
    {
     "data": {
      "text/plain": [
       "True"
      ]
     },
     "execution_count": 1,
     "metadata": {},
     "output_type": "execute_result"
    }
   ],
   "source": [
    "import torch\n",
    "import torchaudio\n",
    "import torch.utils.data as data\n",
    "import torchvision.transforms as transforms\n",
    "import numpy as np\n",
    "from pytorch_nsynth.nsynth import NSynth, SignalTransformation\n",
    "import sys\n",
    "import librosa.display\n",
    "import json\n",
    "import matplotlib.pyplot as plt\n",
    "torch.cuda.is_available()"
   ]
  },
  {
   "cell_type": "code",
   "execution_count": 2,
   "id": "47529117",
   "metadata": {},
   "outputs": [],
   "source": [
    "toFloat = transforms.Lambda(lambda x: x / np.iinfo(np.int16).max)"
   ]
  },
  {
   "cell_type": "code",
   "execution_count": 3,
   "id": "35b03fef",
   "metadata": {},
   "outputs": [],
   "source": [
    "dataset = NSynth(\n",
    "        \"nsynth-valid\",\n",
    "        transform=toFloat,\n",
    "        blacklist_pattern=[\"string\"],  # blacklist string instrument\n",
    "        categorical_field_list=[\"instrument_family\", \"instrument_source\"])"
   ]
  },
  {
   "cell_type": "code",
   "execution_count": 4,
   "id": "a9b8584a",
   "metadata": {},
   "outputs": [],
   "source": [
    "loader = data.DataLoader(dataset, batch_size=32, shuffle=True)"
   ]
  },
  {
   "cell_type": "markdown",
   "id": "011c1a23",
   "metadata": {},
   "source": [
    "# Coger el archivo de audio con source 0 y clasificar por familias\n",
    "\n",
    "\n",
    "### Families\n",
    "0 - Bass\n",
    "\n",
    "1 - Brass\n",
    "\n",
    "2 - Flute\n",
    "\n",
    "3 - Guitar\n",
    "\n",
    "4 - Keyboard\n",
    "\n",
    "5 - Mallet\n",
    "\n",
    "6 - Organ\n",
    "\n",
    "7 - Reed\n",
    "\n",
    "8 - String\n",
    "\n",
    "9 - Synth_lead\n",
    "\n",
    "10 - Vocal"
   ]
  },
  {
   "cell_type": "code",
   "execution_count": 5,
   "id": "1a2b5ce6",
   "metadata": {},
   "outputs": [
    {
     "name": "stdout",
     "output_type": "stream",
     "text": [
      "{'fichero': 'bass_synthetic_033-087-050.wav', 'familia': 2}\n"
     ]
    }
   ],
   "source": [
    "# print(dataset.__getitem__(0))\n",
    "# print(dataset.__getitem__(0)[3][\"note_str\"])\n",
    "# print(dataset.__getitem__(0)[3][\"instrument_source\"])\n",
    "print(dataset.getAudioCharacteristics(0))"
   ]
  },
  {
   "cell_type": "code",
   "execution_count": null,
   "id": "86b7078f",
   "metadata": {},
   "outputs": [],
   "source": []
  },
  {
   "cell_type": "code",
   "execution_count": 6,
   "id": "64129990",
   "metadata": {},
   "outputs": [
    {
     "name": "stdout",
     "output_type": "stream",
     "text": [
      "cuda:0\n"
     ]
    }
   ],
   "source": [
    "device = torch.device(\"cuda:0\" if torch.cuda.is_available() else \"cpu\")\n",
    "print(device)"
   ]
  },
  {
   "cell_type": "code",
   "execution_count": null,
   "id": "b5b79adf",
   "metadata": {},
   "outputs": [],
   "source": [
    "# audioCharacteristics=dataset.getAudioCharacteristics(0)\n",
    "# signalTransformation = SignalTransformation(fichero=audioCharacteristics[\"fichero\"],label=audioCharacteristics[\"familia\"])\n",
    "# plot_specgram(signalTransformation.generarSpectrograma(),16000,title=audioCharacteristics[\"fichero\"])\n",
    "\n",
    "with open(\"nsynth-test/examples.json\", \"r\") as f:\n",
    "    datos = json.loads(f.read())\n",
    "\n",
    "leyenda = {}\n",
    "contador = 0\n",
    "for dato in datos:\n",
    "        waveform, sample_rate = torchaudio.load(\"./nsynth-test/audio/\"+dato+\".wav\")\n",
    "        waveform=waveform.to(device)\n",
    "        waveform = SignalTransformation.generarSpectrogramaFromSignal(waveform)\n",
    "        shape = waveform.shape\n",
    "        waveform = torchaudio.transforms.AmplitudeToDB()(waveform) \n",
    "        waveform=waveform.cpu().data.numpy()\n",
    "        librosa.display.specshow(waveform[0])\n",
    "        plt.colorbar()\n",
    "        plt.savefig(\"./nsynth-test/spectrograms/\"+dato+\".png\", bbox_inches='tight')\n",
    "        plt.close()\n",
    "#         leyenda[dato] = datos[dato][\"instrument_family\"]\n"
   ]
  },
  {
   "cell_type": "markdown",
   "id": "e3491d2d",
   "metadata": {},
   "source": [
    "# Ejemplo hecho con Librosa"
   ]
  },
  {
   "cell_type": "code",
   "execution_count": null,
   "id": "c650113d",
   "metadata": {},
   "outputs": [],
   "source": [
    "\n",
    "# with open(\"nsynth-test/examples.json\", \"r\") as f:\n",
    "#     datos = json.loads(f.read())\n",
    "\n",
    "# leyenda = {}\n",
    "# contador = 0\n",
    "# for dato in datos:\n",
    "#     if(contador>200):\n",
    "#         break;\n",
    "#     else:\n",
    "#         waveform, sample_rate = librosa.load(\"./nsynth-test/audio/\"+dato+\".wav\")\n",
    "# #         waveform=waveform.to(device)\n",
    "#         shape = waveform.shape\n",
    "# #         waveform = SignalTransformation.generarSpectrogramaFromSignal(waveform)\n",
    "#         waveform=librosa.feature.melspectrogram(y=waveform, sr=sample_rate)\n",
    "# #         plot_waveform(waveform, sample_rate,shape)\n",
    "# #         leyenda[dato] = datos[dato][\"instrument_family\"]\n",
    "#         waveform=np.abs(waveform)\n",
    "#         waveform=librosa.power_to_db(waveform,ref=np.max)\n",
    "#         librosa.display.specshow(waveform)\n",
    "#         plt.savefig(\"./nsynth-test/spectrograms/\"+dato+\".png\", bbox_inches='tight')\n",
    "#         plt.close()\n",
    "#         contador+=1\n",
    "        "
   ]
  }
 ],
 "metadata": {
  "kernelspec": {
   "display_name": "AudioEnvironment",
   "language": "python",
   "name": "audioenvironment"
  },
  "language_info": {
   "codemirror_mode": {
    "name": "ipython",
    "version": 3
   },
   "file_extension": ".py",
   "mimetype": "text/x-python",
   "name": "python",
   "nbconvert_exporter": "python",
   "pygments_lexer": "ipython3",
   "version": "3.8.13"
  }
 },
 "nbformat": 4,
 "nbformat_minor": 5
}
